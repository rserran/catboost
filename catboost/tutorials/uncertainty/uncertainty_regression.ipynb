{
 "cells": [
  {
   "cell_type": "code",
   "execution_count": 1,
   "metadata": {},
   "outputs": [],
   "source": [
    "import numpy as np\n",
    "import math\n",
    "from catboost import Pool, CatBoostRegressor\n",
    "import seaborn as sns\n",
    "import matplotlib.pyplot as plt"
   ]
  },
  {
   "cell_type": "markdown",
   "metadata": {},
   "source": [
    "Assume that we have two categorical features with 9 values each, so there are 81 possible feature combinations. The target y depends on the features x as y = mean(x) + eps(x), where mean(x) is some unknown fixed value and eps(x) is a normally distributed noise with mean 0 and variance var(x). We let mean(x) to be randomly generated and var(x) to have two values - 0.01 and 0.04. Also, there will be an \"unknown\" region without any training examples. To indicate this region on the figure, we set var(x) = 0 for these feature combinations."
   ]
  },
  {
   "cell_type": "code",
   "execution_count": 2,
   "metadata": {},
   "outputs": [],
   "source": [
    "# function for generating mean and variance\n",
    "def gen_parameters(noise=0.01, seed=0):\n",
    "    \n",
    "    np.random.seed(seed)\n",
    "    \n",
    "    mean = np.random.rand(9, 9)\n",
    "    \n",
    "    figure = np.array([\n",
    "        [1, 1, 1, 1, 1, 1, 1, 1, 1],\n",
    "        [1, 1, 4, 1, 1, 1, 4, 1, 1],\n",
    "        [1, 4, 0, 4, 1, 4, 0, 4, 1],\n",
    "        [4, 0, 0, 0, 4, 0, 0, 0, 4],\n",
    "        [1, 4, 0, 0, 0, 0, 0, 4, 1],\n",
    "        [1, 1, 4, 0, 0, 0, 4, 1, 1],\n",
    "        [1, 1, 1, 4, 0, 4, 1, 1, 1],\n",
    "        [1, 1, 1, 1, 4, 1, 1, 1, 1],\n",
    "        [1, 1, 1, 1, 1, 1, 1, 1, 1]\n",
    "    ])\n",
    "\n",
    "    var = figure*noise\n",
    "    \n",
    "    return mean, var"
   ]
  },
  {
   "cell_type": "code",
   "execution_count": 3,
   "metadata": {},
   "outputs": [
    {
     "name": "stdout",
     "output_type": "stream",
     "text": [
      "True data uncertainty (variance). The white region will not contain any traing data.\n"
     ]
    },
    {
     "data": {
      "image/png": "[encoded data removed]",
      "text/plain": [
       "<Figure size 432x288 with 2 Axes>"
      ]
     },
     "metadata": {
      "needs_background": "light"
     },
     "output_type": "display_data"
    }
   ],
   "source": [
    "# generate parameters and plot variance\n",
    "mean, var = gen_parameters()\n",
    "print(\"True data uncertainty (variance). The white region will not contain any traing data.\")\n",
    "sns.heatmap(var, cmap=\"Reds\", vmax=0.05)\n",
    "plt.show()"
   ]
  },
  {
   "cell_type": "code",
   "execution_count": 4,
   "metadata": {},
   "outputs": [],
   "source": [
    "# function for generating train and validation sets\n",
    "def generate_training_data(n_samples, mean, var, num_cat=9, seed=0):\n",
    "    np.random.seed(seed)\n",
    "    train = []\n",
    "    target = []\n",
    "    val = []\n",
    "    val_target = []\n",
    "    for i in range(num_cat):\n",
    "        for j in range(num_cat):\n",
    "            if var[i, j] == 0:\n",
    "                continue\n",
    "            for _ in range(n_samples):\n",
    "                train.append([i, j])\n",
    "                val.append([i, j])\n",
    "                target.append(np.random.normal(mean[i, j], math.sqrt(var[i, j])))\n",
    "                val_target.append(np.random.normal(mean[i, j], math.sqrt(var[i, j])))\n",
    "                \n",
    "    train = np.asarray(train)\n",
    "    target = np.asarray(target)\n",
    "\n",
    "    return train, target, val, val_target"
   ]
  },
  {
   "cell_type": "markdown",
   "metadata": {},
   "source": [
    "Now we generate the dataset using the obtained distribution. In each cell, except for the white ones, we have several training examples. The test set consists of all possible feature combinations."
   ]
  },
  {
   "cell_type": "code",
   "execution_count": 5,
   "metadata": {},
   "outputs": [],
   "source": [
    "# generate train and validation datasets\n",
    "train, target, val, val_target = generate_training_data(1000, mean, var)\n",
    "\n",
    "train_pool = Pool(train, target, cat_features = [0, 1])\n",
    "val_pool = Pool(val, val_target, cat_features = [0, 1])\n",
    "\n",
    "# generate test, consisting of all possible feature combinations\n",
    "num_cat = 9\n",
    "test = np.asarray([[i, j] for i in range(num_cat) for j in range(num_cat)])"
   ]
  },
  {
   "cell_type": "markdown",
   "metadata": {},
   "source": [
    "If we optimize the RMSE loss, then we predict mean(x). If we also want to estimate var(x) (data uncertainty), then we have to use a probabilistic regression model that predicts mean and variance. For this purpose, we can use the loss function called RMSEWithUncertainty."
   ]
  },
  {
   "cell_type": "code",
   "execution_count": 6,
   "metadata": {},
   "outputs": [
    {
     "name": "stdout",
     "output_type": "stream",
     "text": [
      "best iteration = 978\n"
     ]
    }
   ],
   "source": [
    "# predict mean value and data uncertainty\n",
    "\n",
    "model = CatBoostRegressor(iterations=1000, learning_rate=0.2, loss_function='RMSEWithUncertainty',\n",
    "                          verbose=False, random_seed=0)\n",
    "\n",
    "model.fit(train_pool, eval_set=val_pool)\n",
    "print(\"best iteration =\", model.get_best_iteration())\n",
    "preds = model.predict(test)\n",
    "\n",
    "mean_preds = preds[:, 0] #the first prediction is the estimated mean value\n",
    "var_preds = preds[:, 1] #the second prediction is the estimated variance"
   ]
  },
  {
   "cell_type": "markdown",
   "metadata": {},
   "source": [
    "Let us see how well we can predict the mean values with this loss. Below we compare the true mean values with the estimated ones. For easier visual comparison, we use a mask to hide all feature combinations for which we do not have any training data."
   ]
  },
  {
   "cell_type": "code",
   "execution_count": 7,
   "metadata": {},
   "outputs": [],
   "source": [
    "# define mask to hide elements inside the heart:\n",
    "mask = np.array([\n",
    "        [1, 1, 1, 1, 1, 1, 1, 1, 1],\n",
    "        [1, 1, 1, 1, 1, 1, 1, 1, 1],\n",
    "        [1, 1, 0, 1, 1, 1, 0, 1, 1],\n",
    "        [1, 0, 0, 0, 1, 0, 0, 0, 1],\n",
    "        [1, 1, 0, 0, 0, 0, 0, 1, 1],\n",
    "        [1, 1, 1, 0, 0, 0, 1, 1, 1],\n",
    "        [1, 1, 1, 1, 0, 1, 1, 1, 1],\n",
    "        [1, 1, 1, 1, 1, 1, 1, 1, 1],\n",
    "        [1, 1, 1, 1, 1, 1, 1, 1, 1]\n",
    "    ])"
   ]
  },
  {
   "cell_type": "code",
   "execution_count": 8,
   "metadata": {},
   "outputs": [
    {
     "name": "stdout",
     "output_type": "stream",
     "text": [
      "True mean values (with mask):\n"
     ]
    },
    {
     "data": {
      "image/png": "[encoded data removed]",
      "text/plain": [
       "<Figure size 432x288 with 2 Axes>"
      ]
     },
     "metadata": {
      "needs_background": "light"
     },
     "output_type": "display_data"
    },
    {
     "name": "stdout",
     "output_type": "stream",
     "text": [
      "Predicted mean values (with mask):\n"
     ]
    },
    {
     "data": {
      "image/png": "[encoded data removed]",
      "text/plain": [
       "<Figure size 432x288 with 2 Axes>"
      ]
     },
     "metadata": {
      "needs_background": "light"
     },
     "output_type": "display_data"
    }
   ],
   "source": [
    "print(\"True mean values (with mask):\")\n",
    "sns.heatmap(mean*mask, cmap=\"Reds\")\n",
    "plt.show()\n",
    "\n",
    "print(\"Predicted mean values (with mask):\")\n",
    "sns.heatmap(mean_preds.reshape([num_cat, num_cat])*mask, cmap=\"Reds\")\n",
    "plt.show()"
   ]
  },
  {
   "cell_type": "markdown",
   "metadata": {},
   "source": [
    "We see that CatBoost captures the mean values well. Now let us plot the predicted data uncertainty (variance). We can see that CatBoost is able to predict the variance outside the heart and on its border. Inside the heart we have no training data, so anything can be predicted there."
   ]
  },
  {
   "cell_type": "code",
   "execution_count": 9,
   "metadata": {},
   "outputs": [
    {
     "name": "stdout",
     "output_type": "stream",
     "text": [
      "Predicted data uncertainty:\n"
     ]
    },
    {
     "data": {
      "image/png": "[encoded data removed]",
      "text/plain": [
       "<Figure size 432x288 with 2 Axes>"
      ]
     },
     "metadata": {
      "needs_background": "light"
     },
     "output_type": "display_data"
    }
   ],
   "source": [
    "print(\"Predicted data uncertainty:\")\n",
    "sns.heatmap(var_preds.reshape([num_cat, num_cat]), cmap=\"Reds\", vmin=0, vmax=0.05)\n",
    "plt.show()"
   ]
  },
  {
   "cell_type": "markdown",
   "metadata": {},
   "source": [
    "Ok, we know how to estimate noise in the data. But how to measure knowledge uncertainty coming from the lack of training data in a particular region? What to do if we want to detect outliers?  Estimating knowledge uncertainty requires an ensemble of models. If all the models give similar predictions, then there is low knowledge uncertainty, and if they give diverse predictions (strongly disagree with each other), then there is high knowledge uncertainty.\n",
    "Let’s generate an ensemble:"
   ]
  },
  {
   "cell_type": "code",
   "execution_count": 10,
   "metadata": {},
   "outputs": [],
   "source": [
    "def ensemble(train_pool, val_pool, num_samples=10, iters=1000, lr=0.2):\n",
    "    ens_preds = []\n",
    "    for seed in range(num_samples):\n",
    "        model = CatBoostRegressor(random_seed=seed, iterations=iters, learning_rate=lr, \n",
    "                                  loss_function='RMSEWithUncertainty', posterior_sampling=True,\n",
    "                                  verbose=False)\n",
    "        model.fit(train_pool, eval_set=val_pool)\n",
    "        ens_preds.append(model.predict(test))\n",
    "    return ens_preds"
   ]
  },
  {
   "cell_type": "markdown",
   "metadata": {},
   "source": [
    "Note that the models are generated using the option posterior_sampling, since this allows the obtained (random) predictions to be nicely distributed (with good theoretical properties).\n",
    "\n",
    "For regression, knowledge uncertainty can be obtained by measuring the variance of the mean across multiple models. Below we also plot the average estimated data uncertainty (average predicted variance for the modes)."
   ]
  },
  {
   "cell_type": "code",
   "execution_count": 11,
   "metadata": {
    "scrolled": true
   },
   "outputs": [
    {
     "name": "stdout",
     "output_type": "stream",
     "text": [
      "Knowledge uncertainty via ensemble:\n"
     ]
    },
    {
     "data": {
      "image/png": "[encoded data removed]",
      "text/plain": [
       "<Figure size 432x288 with 2 Axes>"
      ]
     },
     "metadata": {
      "needs_background": "light"
     },
     "output_type": "display_data"
    },
    {
     "name": "stdout",
     "output_type": "stream",
     "text": [
      "Average predicted data uncertainty:\n"
     ]
    },
    {
     "data": {
      "image/png": "[encoded data removed]",
      "text/plain": [
       "<Figure size 432x288 with 2 Axes>"
      ]
     },
     "metadata": {
      "needs_background": "light"
     },
     "output_type": "display_data"
    }
   ],
   "source": [
    "ens_preds = ensemble(train_pool, val_pool, num_samples=10, iters=1000, lr=0.2)\n",
    "ens_preds = np.asarray(ens_preds)\n",
    "data = np.mean(ens_preds, axis=0)[:, 1] # average estimated data uncertainty\n",
    "knowledge = np.var(ens_preds, axis=0)[:, 0] # estimated knowledge uncertainty\n",
    "\n",
    "print(\"Knowledge uncertainty via ensemble:\")            \n",
    "sns.heatmap(knowledge.reshape([num_cat, num_cat]), cmap=\"Reds\")\n",
    "plt.show()\n",
    "\n",
    "print(\"Average predicted data uncertainty:\")            \n",
    "sns.heatmap(data.reshape([num_cat, num_cat]), cmap=\"Reds\", vmin=0, vmax=0.05)\n",
    "plt.show()"
   ]
  },
  {
   "cell_type": "markdown",
   "metadata": {},
   "source": [
    "The models perfectly detected knowledge uncertainty inside the heart (we can see no traces of the original heart border on the figure). This illustrates how by estimating knowledge uncertainty, we can detect anomalous inputs.\n",
    "\n",
    "In practice, training an ensemble of several CatBoost models can be too expensive. If you need a cheaper method - you can use a virtual ensemble, obtained from a single trained model:"
   ]
  },
  {
   "cell_type": "code",
   "execution_count": 12,
   "metadata": {},
   "outputs": [],
   "source": [
    "def virt_ensemble(train_pool, val_pool, num_samples=10, iters=1000, lr=0.2, seed=0):\n",
    "    ens_preds = []\n",
    "    model = CatBoostRegressor(iterations=iters, learning_rate=lr, loss_function='RMSEWithUncertainty', \n",
    "                              posterior_sampling=True, verbose=False, random_seed=seed)\n",
    "    model.fit(train_pool, eval_set=val_pool)\n",
    "    ens_preds = model.virtual_ensembles_predict(test, prediction_type='VirtEnsembles', virtual_ensembles_count=num_samples)\n",
    "    return ens_preds"
   ]
  },
  {
   "cell_type": "markdown",
   "metadata": {},
   "source": [
    "As before, knowledge uncertainty can be obtained by measuring the variance of the mean across the obtained models. Similarly, we can also compute the average estimated data uncertainty."
   ]
  },
  {
   "cell_type": "code",
   "execution_count": 13,
   "metadata": {},
   "outputs": [
    {
     "name": "stdout",
     "output_type": "stream",
     "text": [
      "Knowledge uncertainty via virtual ensemble:\n"
     ]
    },
    {
     "data": {
      "image/png": "[encoded data removed]",
      "text/plain": [
       "<Figure size 432x288 with 2 Axes>"
      ]
     },
     "metadata": {
      "needs_background": "light"
     },
     "output_type": "display_data"
    },
    {
     "name": "stdout",
     "output_type": "stream",
     "text": [
      "Average predicted data uncertainty:\n"
     ]
    },
    {
     "data": {
      "image/png": "[encoded data removed]",
      "text/plain": [
       "<Figure size 432x288 with 2 Axes>"
      ]
     },
     "metadata": {
      "needs_background": "light"
     },
     "output_type": "display_data"
    }
   ],
   "source": [
    "ens_preds = virt_ensemble(train_pool, val_pool, num_samples=10, iters=1000, lr=0.2)\n",
    "\n",
    "ens_preds = np.asarray(ens_preds)\n",
    "ens_preds = ens_preds\n",
    "\n",
    "data = np.mean(ens_preds, axis = 1)[:,1]\n",
    "knowledge = np.var(ens_preds, axis = 1)[:,0]\n",
    "\n",
    "print(\"Knowledge uncertainty via virtual ensemble:\")\n",
    "sns.heatmap(knowledge.reshape([num_cat,num_cat]), cmap=\"Reds\")\n",
    "plt.show()\n",
    "\n",
    "print(\"Average predicted data uncertainty:\")\n",
    "sns.heatmap(data.reshape([num_cat,num_cat]), cmap=\"Reds\", vmax = 0.05)\n",
    "plt.show()"
   ]
  },
  {
   "cell_type": "markdown",
   "metadata": {},
   "source": [
    "We can also use prediction_type='TotalUncertainty' and get the same result easier. For this prediction type, CatBoost calculates and returns the following statistics using the virtual ensemble: [Mean Predictions, Knowledge Uncertainty, Data Uncertainty]"
   ]
  },
  {
   "cell_type": "code",
   "execution_count": 14,
   "metadata": {},
   "outputs": [],
   "source": [
    "model = CatBoostRegressor(iterations=1000, learning_rate=0.2, loss_function='RMSEWithUncertainty', \n",
    "                          posterior_sampling=True, verbose=False, random_seed=0)\n",
    "model.fit(train_pool, eval_set=val_pool)\n",
    "preds = model.virtual_ensembles_predict(test, prediction_type='TotalUncertainty', virtual_ensembles_count=10)"
   ]
  },
  {
   "cell_type": "code",
   "execution_count": 15,
   "metadata": {},
   "outputs": [
    {
     "name": "stdout",
     "output_type": "stream",
     "text": [
      "Knowledge uncertainty via virtual ensemble:\n"
     ]
    },
    {
     "data": {
      "image/png": "[encoded data removed]",
      "text/plain": [
       "<Figure size 432x288 with 2 Axes>"
      ]
     },
     "metadata": {
      "needs_background": "light"
     },
     "output_type": "display_data"
    },
    {
     "name": "stdout",
     "output_type": "stream",
     "text": [
      "Average predicted data uncertainty:\n"
     ]
    },
    {
     "data": {
      "image/png": "[encoded data removed]",
      "text/plain": [
       "<Figure size 432x288 with 2 Axes>"
      ]
     },
     "metadata": {
      "needs_background": "light"
     },
     "output_type": "display_data"
    }
   ],
   "source": [
    "mean_preds = preds[:,0] # mean values predicted by a virtual ensemble\n",
    "\n",
    "knowledge = preds[:,1] # knowledge uncertainty\n",
    "print(\"Knowledge uncertainty via virtual ensemble:\")\n",
    "sns.heatmap(knowledge.reshape([num_cat,num_cat]), cmap=\"Reds\")\n",
    "plt.show()\n",
    "\n",
    "data = preds[:,2] # estimated data uncertainty\n",
    "print(\"Average predicted data uncertainty:\")\n",
    "sns.heatmap(data.reshape([num_cat,num_cat]), cmap=\"Reds\", vmin = 0, vmax = 0.05)\n",
    "plt.show()"
   ]
  }
 ],
 "metadata": {
  "kernelspec": {
   "display_name": "Python 3",
   "language": "python",
   "name": "python3"
  },
  "language_info": {
   "codemirror_mode": {
    "name": "ipython",
    "version": 3
   },
   "file_extension": ".py",
   "mimetype": "text/x-python",
   "name": "python",
   "nbconvert_exporter": "python",
   "pygments_lexer": "ipython3",
   "version": "3.6.9"
  }
 },
 "nbformat": 4,
 "nbformat_minor": 2
}
